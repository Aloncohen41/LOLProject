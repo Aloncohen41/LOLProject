{
  "cells": [
    {
      "cell_type": "markdown",
      "metadata": {
        "id": "view-in-github",
        "colab_type": "text"
      },
      "source": [
        "<a href=\"https://colab.research.google.com/github/Aloncohen41/LOLProject/blob/main/LoL_Champion_Kill_Extractor.ipynb\" target=\"_parent\"><img src=\"https://colab.research.google.com/assets/colab-badge.svg\" alt=\"Open In Colab\"/></a>"
      ]
    },
    {
      "cell_type": "code",
      "metadata": {
        "colab": {
          "base_uri": "https://localhost:8080/",
          "height": 575
        },
        "id": "56546043",
        "outputId": "3be3ab08-a36d-4946-8224-699151134342"
      },
      "source": [
        "import requests\n",
        "import os\n",
        "from google.colab import userdata\n",
        "import json\n",
        "import time # Import the time module for rate limiting\n",
        "\n",
        "# Replace with your actual API key from Colab Secrets\n",
        "RIOT_API_KEY = userdata.get('PERSONAL_RIOT_KEY') # Using the new key name\n",
        "\n",
        "# Replace with the appropriate region for the matches (e.g., 'na1', 'euw1', 'kr')\n",
        "# This should be the region where the matches were played.\n",
        "# YOU MUST REPLACE 'YOUR_REGION' BELOW WITH A VALID REGION CODE!\n",
        "region = 'europe' # <--- Change this to a valid region\n",
        "\n",
        "# Path to the file containing match IDs\n",
        "match_ids_file = '/content/game_ids.txt'\n",
        "\n",
        "# Directory to save the match data\n",
        "output_dir = '/content/match_data'\n",
        "os.makedirs(output_dir, exist_ok=True)\n",
        "\n",
        "# Set up the headers with your API key\n",
        "headers = {\n",
        "    'X-Riot-Token': RIOT_API_KEY\n",
        "}\n",
        "\n",
        "# Rate limiting: Riot API has rate limits. Be mindful of them.\n",
        "# You might need to adjust this based on your API key's limits.\n",
        "# A simple approach is to wait between requests.\n",
        "request_delay = 1 # seconds between requests\n",
        "\n",
        "match_ids = []\n",
        "try:\n",
        "    with open(match_ids_file, 'r') as f:\n",
        "        match_ids = [line.strip() for line in f if line.strip()]\n",
        "except FileNotFoundError:\n",
        "    print(f\"Error: The file '{match_ids_file}' was not found.\")\n",
        "    match_ids = []\n",
        "\n",
        "if not match_ids:\n",
        "    print(\"No match IDs found in the file. Please ensure the file exists and contains match IDs.\")\n",
        "else:\n",
        "    print(f\"Found {len(match_ids)} match IDs in the file. Starting data extraction...\")\n",
        "    for i, match_id in enumerate(match_ids):\n",
        "        api_url = f'https://{region}.api.riotgames.com/lol/match/v5/matches/{match_id}'\n",
        "        output_file = os.path.join(output_dir, f'{match_id}.json')\n",
        "\n",
        "        # Check if the file already exists to avoid re-fetching\n",
        "        if os.path.exists(output_file):\n",
        "            print(f\"Skipping match ID {match_id}: data already exists.\")\n",
        "            continue\n",
        "\n",
        "        try:\n",
        "            response = requests.get(api_url, headers=headers)\n",
        "            response.raise_for_status() # Raise an exception for bad status codes\n",
        "\n",
        "            match_data = response.json()\n",
        "\n",
        "            # Save the match data to a JSON file\n",
        "            with open(output_file, 'w') as f:\n",
        "                json.dump(match_data, f, indent=4)\n",
        "\n",
        "            print(f\"Successfully extracted and saved data for match ID {match_id} ({i+1}/{len(match_ids)})\")\n",
        "\n",
        "        except requests.exceptions.RequestException as e:\n",
        "            print(f\"Error fetching data for match ID {match_id}: {e}\")\n",
        "            if 'response' in locals():\n",
        "                if response.status_code == 401:\n",
        "                    print(\"Unauthorized: Check if your API key is valid and correctly set.\")\n",
        "                elif response.status_code == 403:\n",
        "                    print(\"Forbidden: Your API key may not have the necessary permissions or has expired.\")\n",
        "                elif response.status_code == 404:\n",
        "                    print(\"Not Found: Match ID not found or invalid.\")\n",
        "                elif response.status_code == 429:\n",
        "                    print(\"Rate Limit Exceeded: You have made too many requests in a short period. Waiting...\")\n",
        "                    # Implement a backoff strategy for rate limiting\n",
        "                    time.sleep(60) # Wait for 60 seconds and retry or adjust delay\n",
        "                    continue # Skip to the next match for now, or implement retry logic\n",
        "                else:\n",
        "                    print(f\"API returned status code: {response.status_code}\")\n",
        "            else:\n",
        "                print(\"Request failed before receiving a response.\")\n",
        "\n",
        "        # Wait for the specified delay to respect rate limits\n",
        "        time.sleep(request_delay)\n",
        "\n",
        "    print(\"Match data extraction process finished.\")"
      ],
      "execution_count": 37,
      "outputs": [
        {
          "output_type": "stream",
          "name": "stdout",
          "text": [
            "Found 51490 match IDs in the file. Starting data extraction...\n",
            "Error fetching data for match ID 3326086514: 404 Client Error: Not Found for url: https://europe.api.riotgames.com/lol/match/v5/matches/3326086514\n",
            "Not Found: Match ID not found or invalid.\n",
            "Error fetching data for match ID 3229566029: 404 Client Error: Not Found for url: https://europe.api.riotgames.com/lol/match/v5/matches/3229566029\n",
            "Not Found: Match ID not found or invalid.\n",
            "Error fetching data for match ID 3327363504: 404 Client Error: Not Found for url: https://europe.api.riotgames.com/lol/match/v5/matches/3327363504\n",
            "Not Found: Match ID not found or invalid.\n",
            "Error fetching data for match ID 3326856598: 404 Client Error: Not Found for url: https://europe.api.riotgames.com/lol/match/v5/matches/3326856598\n",
            "Not Found: Match ID not found or invalid.\n",
            "Error fetching data for match ID 3330080762: 404 Client Error: Not Found for url: https://europe.api.riotgames.com/lol/match/v5/matches/3330080762\n",
            "Not Found: Match ID not found or invalid.\n",
            "Error fetching data for match ID 3287435705: 404 Client Error: Not Found for url: https://europe.api.riotgames.com/lol/match/v5/matches/3287435705\n",
            "Not Found: Match ID not found or invalid.\n",
            "Error fetching data for match ID 3314215542: 404 Client Error: Not Found for url: https://europe.api.riotgames.com/lol/match/v5/matches/3314215542\n",
            "Not Found: Match ID not found or invalid.\n",
            "Error fetching data for match ID 3329224025: 404 Client Error: Not Found for url: https://europe.api.riotgames.com/lol/match/v5/matches/3329224025\n",
            "Not Found: Match ID not found or invalid.\n",
            "Error fetching data for match ID 3318040883: 404 Client Error: Not Found for url: https://europe.api.riotgames.com/lol/match/v5/matches/3318040883\n",
            "Not Found: Match ID not found or invalid.\n",
            "Error fetching data for match ID 3327786881: 404 Client Error: Not Found for url: https://europe.api.riotgames.com/lol/match/v5/matches/3327786881\n",
            "Not Found: Match ID not found or invalid.\n"
          ]
        },
        {
          "output_type": "error",
          "ename": "KeyboardInterrupt",
          "evalue": "",
          "traceback": [
            "\u001b[0;31m---------------------------------------------------------------------------\u001b[0m",
            "\u001b[0;31mKeyboardInterrupt\u001b[0m                         Traceback (most recent call last)",
            "\u001b[0;32m/tmp/ipython-input-1846043366.py\u001b[0m in \u001b[0;36m<cell line: 0>\u001b[0;34m()\u001b[0m\n\u001b[1;32m     83\u001b[0m \u001b[0;34m\u001b[0m\u001b[0m\n\u001b[1;32m     84\u001b[0m         \u001b[0;31m# Wait for the specified delay to respect rate limits\u001b[0m\u001b[0;34m\u001b[0m\u001b[0;34m\u001b[0m\u001b[0m\n\u001b[0;32m---> 85\u001b[0;31m         \u001b[0mtime\u001b[0m\u001b[0;34m.\u001b[0m\u001b[0msleep\u001b[0m\u001b[0;34m(\u001b[0m\u001b[0mrequest_delay\u001b[0m\u001b[0;34m)\u001b[0m\u001b[0;34m\u001b[0m\u001b[0;34m\u001b[0m\u001b[0m\n\u001b[0m\u001b[1;32m     86\u001b[0m \u001b[0;34m\u001b[0m\u001b[0m\n\u001b[1;32m     87\u001b[0m     \u001b[0mprint\u001b[0m\u001b[0;34m(\u001b[0m\u001b[0;34m\"Match data extraction process finished.\"\u001b[0m\u001b[0;34m)\u001b[0m\u001b[0;34m\u001b[0m\u001b[0;34m\u001b[0m\u001b[0m\n",
            "\u001b[0;31mKeyboardInterrupt\u001b[0m: "
          ]
        }
      ]
    },
    {
      "cell_type": "markdown",
      "metadata": {
        "id": "b56647c6"
      },
      "source": [
        "**Note:** You will need a Riot API key with access to the Account-v1 endpoint to use this code."
      ]
    },
    {
      "cell_type": "markdown",
      "metadata": {
        "id": "a17ca6b9"
      },
      "source": [
        "Here's how to find your PUUID using the Riot Games API Documentation website:\n",
        "\n",
        "1.  Go to the [Riot Games API Documentation website](https://developer.riotgames.com/).\n",
        "2.  Log in with your Riot Games account.\n",
        "3.  Navigate to the **API Reference** section.\n",
        "4.  Find and click on the **Account-v1** API.\n",
        "5.  Look for the endpoint that allows you to get an account by Riot ID. It should be something like `/riot/account/v1/accounts/by-riot-id/{gameName}/{tagLine}`.\n",
        "6.  Click on this endpoint to expand its details.\n",
        "7.  In the \"Parameters\" section, you will see fields for `gameName` (your summoner name) and `tagLine` (your tag line).\n",
        "8.  Enter your summoner name in the `gameName` field and your tag line in the `tagLine` field.\n",
        "9.  Make sure you have selected the correct **Region** (usually 'americas', 'europe', or 'asia' depending on where your account was created).\n",
        "10. Click the **Execute** button.\n",
        "11. The response will appear below. Look for the `puuid` field in the JSON response. The value associated with this field is your PUUID.\n",
        "\n",
        "Remember to replace `YOUR_SUMMONER_NAME` and `YOUR_TAG_LINE` with your actual in-game name and tag line."
      ]
    }
  ],
  "metadata": {
    "colab": {
      "provenance": [],
      "include_colab_link": true
    },
    "kernelspec": {
      "display_name": "Python 3",
      "name": "python3"
    }
  },
  "nbformat": 4,
  "nbformat_minor": 0
}